{
  "nbformat": 4,
  "nbformat_minor": 0,
  "metadata": {
    "colab": {
      "name": "project_1.ipynb",
      "provenance": [],
      "collapsed_sections": []
    },
    "kernelspec": {
      "name": "python3",
      "display_name": "Python 3"
    },
    "language_info": {
      "name": "python"
    }
  },
  "cells": [
    {
      "cell_type": "markdown",
      "source": [
        "# Project 1"
      ],
      "metadata": {
        "id": "lAsU18YV3Nv_"
      }
    },
    {
      "cell_type": "markdown",
      "source": [
        "## Introduction"
      ],
      "metadata": {
        "id": "cn0Qhw9KqovO"
      }
    },
    {
      "cell_type": "markdown",
      "source": [
        "### Data Summary"
      ],
      "metadata": {
        "id": "H5WlrnbGNC5b"
      }
    },
    {
      "cell_type": "markdown",
      "source": [
        "The dataset used is from the UCI repository, \"Pima Indian diabetes\", this dataset contains 8 attributes and 768 records. Out of the 768 records, there are multiple casess of people submitting a BMI of 0. People with a BMI of 0 do not exist and will be removed from the dataset. There are outliers in the data but the other outliers are possible and the data will be scaled properly after the analysis of it is done first."
      ],
      "metadata": {
        "id": "b_9mI-wUzbyG"
      }
    },
    {
      "cell_type": "code",
      "execution_count": 265,
      "metadata": {
        "colab": {
          "base_uri": "https://localhost:8080/",
          "height": 300
        },
        "id": "RHkS846O14xQ",
        "outputId": "b17fe181-a834-4b87-aade-0ff5a26857b0"
      },
      "outputs": [
        {
          "output_type": "execute_result",
          "data": {
            "text/plain": [
              "       Pregnancies     Glucose  BloodPressure  SkinThickness     Insulin  \\\n",
              "count   757.000000  757.000000     757.000000     757.000000  757.000000   \n",
              "mean      3.844122  121.136063      69.690885      20.774108   80.841480   \n",
              "std       3.369959   32.061428      18.283325      15.908567  115.710818   \n",
              "min       0.000000    0.000000       0.000000       0.000000    0.000000   \n",
              "25%       1.000000   99.000000      64.000000       0.000000    0.000000   \n",
              "50%       3.000000  117.000000      72.000000      23.000000   37.000000   \n",
              "75%       6.000000  141.000000      80.000000      32.000000  130.000000   \n",
              "max      17.000000  199.000000     122.000000      99.000000  846.000000   \n",
              "\n",
              "              BMI  DiabetesPedigreeFunction         Age     Outcome  \n",
              "count  757.000000                757.000000  757.000000  757.000000  \n",
              "mean    32.457464                  0.472437   33.281374    0.351387  \n",
              "std      6.924988                  0.329474   11.697752    0.477719  \n",
              "min     18.200000                  0.078000   21.000000    0.000000  \n",
              "25%     27.500000                  0.244000   24.000000    0.000000  \n",
              "50%     32.300000                  0.376000   29.000000    0.000000  \n",
              "75%     36.600000                  0.627000   41.000000    1.000000  \n",
              "max     67.100000                  2.420000   81.000000    1.000000  "
            ],
            "text/html": [
              "\n",
              "  <div id=\"df-20cbc0e8-c2f4-4a5e-95ac-e7c5c774e8f1\">\n",
              "    <div class=\"colab-df-container\">\n",
              "      <div>\n",
              "<style scoped>\n",
              "    .dataframe tbody tr th:only-of-type {\n",
              "        vertical-align: middle;\n",
              "    }\n",
              "\n",
              "    .dataframe tbody tr th {\n",
              "        vertical-align: top;\n",
              "    }\n",
              "\n",
              "    .dataframe thead th {\n",
              "        text-align: right;\n",
              "    }\n",
              "</style>\n",
              "<table border=\"1\" class=\"dataframe\">\n",
              "  <thead>\n",
              "    <tr style=\"text-align: right;\">\n",
              "      <th></th>\n",
              "      <th>Pregnancies</th>\n",
              "      <th>Glucose</th>\n",
              "      <th>BloodPressure</th>\n",
              "      <th>SkinThickness</th>\n",
              "      <th>Insulin</th>\n",
              "      <th>BMI</th>\n",
              "      <th>DiabetesPedigreeFunction</th>\n",
              "      <th>Age</th>\n",
              "      <th>Outcome</th>\n",
              "    </tr>\n",
              "  </thead>\n",
              "  <tbody>\n",
              "    <tr>\n",
              "      <th>count</th>\n",
              "      <td>757.000000</td>\n",
              "      <td>757.000000</td>\n",
              "      <td>757.000000</td>\n",
              "      <td>757.000000</td>\n",
              "      <td>757.000000</td>\n",
              "      <td>757.000000</td>\n",
              "      <td>757.000000</td>\n",
              "      <td>757.000000</td>\n",
              "      <td>757.000000</td>\n",
              "    </tr>\n",
              "    <tr>\n",
              "      <th>mean</th>\n",
              "      <td>3.844122</td>\n",
              "      <td>121.136063</td>\n",
              "      <td>69.690885</td>\n",
              "      <td>20.774108</td>\n",
              "      <td>80.841480</td>\n",
              "      <td>32.457464</td>\n",
              "      <td>0.472437</td>\n",
              "      <td>33.281374</td>\n",
              "      <td>0.351387</td>\n",
              "    </tr>\n",
              "    <tr>\n",
              "      <th>std</th>\n",
              "      <td>3.369959</td>\n",
              "      <td>32.061428</td>\n",
              "      <td>18.283325</td>\n",
              "      <td>15.908567</td>\n",
              "      <td>115.710818</td>\n",
              "      <td>6.924988</td>\n",
              "      <td>0.329474</td>\n",
              "      <td>11.697752</td>\n",
              "      <td>0.477719</td>\n",
              "    </tr>\n",
              "    <tr>\n",
              "      <th>min</th>\n",
              "      <td>0.000000</td>\n",
              "      <td>0.000000</td>\n",
              "      <td>0.000000</td>\n",
              "      <td>0.000000</td>\n",
              "      <td>0.000000</td>\n",
              "      <td>18.200000</td>\n",
              "      <td>0.078000</td>\n",
              "      <td>21.000000</td>\n",
              "      <td>0.000000</td>\n",
              "    </tr>\n",
              "    <tr>\n",
              "      <th>25%</th>\n",
              "      <td>1.000000</td>\n",
              "      <td>99.000000</td>\n",
              "      <td>64.000000</td>\n",
              "      <td>0.000000</td>\n",
              "      <td>0.000000</td>\n",
              "      <td>27.500000</td>\n",
              "      <td>0.244000</td>\n",
              "      <td>24.000000</td>\n",
              "      <td>0.000000</td>\n",
              "    </tr>\n",
              "    <tr>\n",
              "      <th>50%</th>\n",
              "      <td>3.000000</td>\n",
              "      <td>117.000000</td>\n",
              "      <td>72.000000</td>\n",
              "      <td>23.000000</td>\n",
              "      <td>37.000000</td>\n",
              "      <td>32.300000</td>\n",
              "      <td>0.376000</td>\n",
              "      <td>29.000000</td>\n",
              "      <td>0.000000</td>\n",
              "    </tr>\n",
              "    <tr>\n",
              "      <th>75%</th>\n",
              "      <td>6.000000</td>\n",
              "      <td>141.000000</td>\n",
              "      <td>80.000000</td>\n",
              "      <td>32.000000</td>\n",
              "      <td>130.000000</td>\n",
              "      <td>36.600000</td>\n",
              "      <td>0.627000</td>\n",
              "      <td>41.000000</td>\n",
              "      <td>1.000000</td>\n",
              "    </tr>\n",
              "    <tr>\n",
              "      <th>max</th>\n",
              "      <td>17.000000</td>\n",
              "      <td>199.000000</td>\n",
              "      <td>122.000000</td>\n",
              "      <td>99.000000</td>\n",
              "      <td>846.000000</td>\n",
              "      <td>67.100000</td>\n",
              "      <td>2.420000</td>\n",
              "      <td>81.000000</td>\n",
              "      <td>1.000000</td>\n",
              "    </tr>\n",
              "  </tbody>\n",
              "</table>\n",
              "</div>\n",
              "      <button class=\"colab-df-convert\" onclick=\"convertToInteractive('df-20cbc0e8-c2f4-4a5e-95ac-e7c5c774e8f1')\"\n",
              "              title=\"Convert this dataframe to an interactive table.\"\n",
              "              style=\"display:none;\">\n",
              "        \n",
              "  <svg xmlns=\"http://www.w3.org/2000/svg\" height=\"24px\"viewBox=\"0 0 24 24\"\n",
              "       width=\"24px\">\n",
              "    <path d=\"M0 0h24v24H0V0z\" fill=\"none\"/>\n",
              "    <path d=\"M18.56 5.44l.94 2.06.94-2.06 2.06-.94-2.06-.94-.94-2.06-.94 2.06-2.06.94zm-11 1L8.5 8.5l.94-2.06 2.06-.94-2.06-.94L8.5 2.5l-.94 2.06-2.06.94zm10 10l.94 2.06.94-2.06 2.06-.94-2.06-.94-.94-2.06-.94 2.06-2.06.94z\"/><path d=\"M17.41 7.96l-1.37-1.37c-.4-.4-.92-.59-1.43-.59-.52 0-1.04.2-1.43.59L10.3 9.45l-7.72 7.72c-.78.78-.78 2.05 0 2.83L4 21.41c.39.39.9.59 1.41.59.51 0 1.02-.2 1.41-.59l7.78-7.78 2.81-2.81c.8-.78.8-2.07 0-2.86zM5.41 20L4 18.59l7.72-7.72 1.47 1.35L5.41 20z\"/>\n",
              "  </svg>\n",
              "      </button>\n",
              "      \n",
              "  <style>\n",
              "    .colab-df-container {\n",
              "      display:flex;\n",
              "      flex-wrap:wrap;\n",
              "      gap: 12px;\n",
              "    }\n",
              "\n",
              "    .colab-df-convert {\n",
              "      background-color: #E8F0FE;\n",
              "      border: none;\n",
              "      border-radius: 50%;\n",
              "      cursor: pointer;\n",
              "      display: none;\n",
              "      fill: #1967D2;\n",
              "      height: 32px;\n",
              "      padding: 0 0 0 0;\n",
              "      width: 32px;\n",
              "    }\n",
              "\n",
              "    .colab-df-convert:hover {\n",
              "      background-color: #E2EBFA;\n",
              "      box-shadow: 0px 1px 2px rgba(60, 64, 67, 0.3), 0px 1px 3px 1px rgba(60, 64, 67, 0.15);\n",
              "      fill: #174EA6;\n",
              "    }\n",
              "\n",
              "    [theme=dark] .colab-df-convert {\n",
              "      background-color: #3B4455;\n",
              "      fill: #D2E3FC;\n",
              "    }\n",
              "\n",
              "    [theme=dark] .colab-df-convert:hover {\n",
              "      background-color: #434B5C;\n",
              "      box-shadow: 0px 1px 3px 1px rgba(0, 0, 0, 0.15);\n",
              "      filter: drop-shadow(0px 1px 2px rgba(0, 0, 0, 0.3));\n",
              "      fill: #FFFFFF;\n",
              "    }\n",
              "  </style>\n",
              "\n",
              "      <script>\n",
              "        const buttonEl =\n",
              "          document.querySelector('#df-20cbc0e8-c2f4-4a5e-95ac-e7c5c774e8f1 button.colab-df-convert');\n",
              "        buttonEl.style.display =\n",
              "          google.colab.kernel.accessAllowed ? 'block' : 'none';\n",
              "\n",
              "        async function convertToInteractive(key) {\n",
              "          const element = document.querySelector('#df-20cbc0e8-c2f4-4a5e-95ac-e7c5c774e8f1');\n",
              "          const dataTable =\n",
              "            await google.colab.kernel.invokeFunction('convertToInteractive',\n",
              "                                                     [key], {});\n",
              "          if (!dataTable) return;\n",
              "\n",
              "          const docLinkHtml = 'Like what you see? Visit the ' +\n",
              "            '<a target=\"_blank\" href=https://colab.research.google.com/notebooks/data_table.ipynb>data table notebook</a>'\n",
              "            + ' to learn more about interactive tables.';\n",
              "          element.innerHTML = '';\n",
              "          dataTable['output_type'] = 'display_data';\n",
              "          await google.colab.output.renderOutput(dataTable, element);\n",
              "          const docLink = document.createElement('div');\n",
              "          docLink.innerHTML = docLinkHtml;\n",
              "          element.appendChild(docLink);\n",
              "        }\n",
              "      </script>\n",
              "    </div>\n",
              "  </div>\n",
              "  "
            ]
          },
          "metadata": {},
          "execution_count": 265
        }
      ],
      "source": [
        "import pandas as pd\n",
        "import numpy as np\n",
        "import seaborn as sns\n",
        "\n",
        "# Majority of the code used from this project was pulled from M_Fried_M8_assn (1).ipynb given on blackboard, it has been slightly altered to fit this dataset instead of the boston housing dataset\n",
        "df = pd.read_csv(\"https://raw.githubusercontent.com/Ale-Man1/Data-Science-Project-on-Diabetes/main/diabetes.csv\")\n",
        "pd.set_option('display.max_columns', None)\n",
        "df.index += 1\n",
        "df = df[df.BMI != 0]\n",
        "df.describe()"
      ]
    },
    {
      "cell_type": "markdown",
      "source": [
        "## EDA"
      ],
      "metadata": {
        "id": "lEepmBTBqnv9"
      }
    },
    {
      "cell_type": "markdown",
      "source": [
        "### Variable 1: Pregnancies"
      ],
      "metadata": {
        "id": "2Yg7jpO5vAur"
      }
    },
    {
      "cell_type": "code",
      "source": [
        "plt1_sns = sns.countplot(data=df, x=\"Pregnancies\").set(title='Number of Times Pregnant') # Graph for EDA\n",
        "plt1_sns;\n",
        "print(df[\"Pregnancies\"].describe()) # Describe to show stats"
      ],
      "metadata": {
        "colab": {
          "base_uri": "https://localhost:8080/",
          "height": 451
        },
        "id": "4ueOC1zntfRK",
        "outputId": "cb4eeddd-96b7-4a7f-e877-95019df7d074"
      },
      "execution_count": 266,
      "outputs": [
        {
          "output_type": "stream",
          "name": "stdout",
          "text": [
            "count    757.000000\n",
            "mean       3.844122\n",
            "std        3.369959\n",
            "min        0.000000\n",
            "25%        1.000000\n",
            "50%        3.000000\n",
            "75%        6.000000\n",
            "max       17.000000\n",
            "Name: Pregnancies, dtype: float64\n"
          ]
        },
        {
          "output_type": "display_data",
          "data": {
            "text/plain": [
              "<Figure size 432x288 with 1 Axes>"
            ],
            "image/png": "[encoded data removed]"
          },
          "metadata": {
            "needs_background": "light"
          }
        }
      ]
    },
    {
      "cell_type": "markdown",
      "source": [
        "The majority of the woman seem to have less than 4 pregnancies, could this be important?"
      ],
      "metadata": {
        "id": "hvR75Ts9-R_i"
      }
    },
    {
      "cell_type": "markdown",
      "source": [
        "### Variable 2: Glucose"
      ],
      "metadata": {
        "id": "1SrzgF9xvF51"
      }
    },
    {
      "cell_type": "code",
      "source": [
        "plt2_sns = sns.boxplot(data=df, y=\"Glucose\").set(title=\"Plasma Glucose Concentration at 2 Hours in an Oral Glucose Tolerance Test\") # Graph for EDA\n",
        "plt2_sns;\n",
        "print(df[\"Glucose\"].describe()) # Describe to show stats"
      ],
      "metadata": {
        "colab": {
          "base_uri": "https://localhost:8080/",
          "height": 424
        },
        "id": "2gewpnN_vM5z",
        "outputId": "4ba6b729-7d8f-4f45-98a9-088bc15d9b14"
      },
      "execution_count": 267,
      "outputs": [
        {
          "output_type": "stream",
          "name": "stdout",
          "text": [
            "count    757.000000\n",
            "mean     121.136063\n",
            "std       32.061428\n",
            "min        0.000000\n",
            "25%       99.000000\n",
            "50%      117.000000\n",
            "75%      141.000000\n",
            "max      199.000000\n",
            "Name: Glucose, dtype: float64\n"
          ]
        },
        {
          "output_type": "display_data",
          "data": {
            "text/plain": [
              "<Figure size 432x288 with 1 Axes>"
            ],
            "image/png": "[encoded data removed]"
          },
          "metadata": {
            "needs_background": "light"
          }
        }
      ]
    },
    {
      "cell_type": "markdown",
      "source": [
        "### Variable 3: Blood Pressure"
      ],
      "metadata": {
        "id": "NVPXifbJvdlj"
      }
    },
    {
      "cell_type": "code",
      "source": [
        "plt3_sns = sns.boxplot(data=df, y=\"BloodPressure\").set(title=\"Diastolic Blood Pressure (mmHg)\") # Graph for EDA\n",
        "plt3_sns;\n",
        "print(df[\"BloodPressure\"].describe()) # Describe to show stats"
      ],
      "metadata": {
        "colab": {
          "base_uri": "https://localhost:8080/",
          "height": 424
        },
        "id": "trE5IoA1vfSz",
        "outputId": "ae5204c6-9b4c-465f-f2a9-18088a161942"
      },
      "execution_count": 268,
      "outputs": [
        {
          "output_type": "stream",
          "name": "stdout",
          "text": [
            "count    757.000000\n",
            "mean      69.690885\n",
            "std       18.283325\n",
            "min        0.000000\n",
            "25%       64.000000\n",
            "50%       72.000000\n",
            "75%       80.000000\n",
            "max      122.000000\n",
            "Name: BloodPressure, dtype: float64\n"
          ]
        },
        {
          "output_type": "display_data",
          "data": {
            "text/plain": [
              "<Figure size 432x288 with 1 Axes>"
            ],
            "image/png": "[encoded data removed]"
          },
          "metadata": {
            "needs_background": "light"
          }
        }
      ]
    },
    {
      "cell_type": "markdown",
      "source": [
        "### Variable 4: Skin Thickness"
      ],
      "metadata": {
        "id": "TVFNVj4pv-M1"
      }
    },
    {
      "cell_type": "code",
      "source": [
        "plt4_sns = sns.boxplot(data=df, y=\"SkinThickness\").set(title=\"Triceps Skin Fold Thickness (mm)\") # Graph for EDA\n",
        "plt4_sns;\n",
        "print(df[\"SkinThickness\"].describe()) # Describe to show stats"
      ],
      "metadata": {
        "colab": {
          "base_uri": "https://localhost:8080/",
          "height": 424
        },
        "id": "F6SzJ3XOwAlA",
        "outputId": "17151e6b-1848-46a2-e102-e199ec87c187"
      },
      "execution_count": 269,
      "outputs": [
        {
          "output_type": "stream",
          "name": "stdout",
          "text": [
            "count    757.000000\n",
            "mean      20.774108\n",
            "std       15.908567\n",
            "min        0.000000\n",
            "25%        0.000000\n",
            "50%       23.000000\n",
            "75%       32.000000\n",
            "max       99.000000\n",
            "Name: SkinThickness, dtype: float64\n"
          ]
        },
        {
          "output_type": "display_data",
          "data": {
            "text/plain": [
              "<Figure size 432x288 with 1 Axes>"
            ],
            "image/png": "[encoded data removed]"
          },
          "metadata": {
            "needs_background": "light"
          }
        }
      ]
    },
    {
      "cell_type": "markdown",
      "source": [
        "### Variable 5: Insulin"
      ],
      "metadata": {
        "id": "0BAvh2f-wSQd"
      }
    },
    {
      "cell_type": "code",
      "source": [
        "plt5_sns = sns.boxplot(data=df, y=\"Insulin\").set(title=\"2-Hour Serum Insulin (mu U/ml)\") # Graph for EDA\n",
        "plt5_sns;\n",
        "print(df[\"Insulin\"].describe()) # Describe to show stats"
      ],
      "metadata": {
        "colab": {
          "base_uri": "https://localhost:8080/",
          "height": 424
        },
        "id": "AQfEJKJxwWto",
        "outputId": "6c2f090c-6e9c-484b-f682-cc8fb498783b"
      },
      "execution_count": 270,
      "outputs": [
        {
          "output_type": "stream",
          "name": "stdout",
          "text": [
            "count    757.000000\n",
            "mean      80.841480\n",
            "std      115.710818\n",
            "min        0.000000\n",
            "25%        0.000000\n",
            "50%       37.000000\n",
            "75%      130.000000\n",
            "max      846.000000\n",
            "Name: Insulin, dtype: float64\n"
          ]
        },
        {
          "output_type": "display_data",
          "data": {
            "text/plain": [
              "<Figure size 432x288 with 1 Axes>"
            ],
            "image/png": "[encoded data removed]"
          },
          "metadata": {
            "needs_background": "light"
          }
        }
      ]
    },
    {
      "cell_type": "markdown",
      "source": [
        "The Highs of the Insulin level and lows are very large as the minimum is at a 0 while the max is at 846. (7 Stories reference!)"
      ],
      "metadata": {
        "id": "Bka5pS7B7uZj"
      }
    },
    {
      "cell_type": "markdown",
      "source": [
        "### Variable 6: BMI"
      ],
      "metadata": {
        "id": "xUgRrGMmy-iY"
      }
    },
    {
      "cell_type": "code",
      "source": [
        "plt6_sns = sns.boxplot(data=df, y=\"BMI\").set(title=\"Body Mass Index BMI (weight in kg/(heigth in m)^2)\") # Graph for EDA\n",
        "plt6_sns;\n",
        "print(df[\"BMI\"].describe()) # Describe to show stats"
      ],
      "metadata": {
        "colab": {
          "base_uri": "https://localhost:8080/",
          "height": 424
        },
        "id": "pmYxW9UuzCKR",
        "outputId": "0dd1c096-58e9-4fff-c8dc-345c5f088fbd"
      },
      "execution_count": 271,
      "outputs": [
        {
          "output_type": "stream",
          "name": "stdout",
          "text": [
            "count    757.000000\n",
            "mean      32.457464\n",
            "std        6.924988\n",
            "min       18.200000\n",
            "25%       27.500000\n",
            "50%       32.300000\n",
            "75%       36.600000\n",
            "max       67.100000\n",
            "Name: BMI, dtype: float64\n"
          ]
        },
        {
          "output_type": "display_data",
          "data": {
            "text/plain": [
              "<Figure size 432x288 with 1 Axes>"
            ],
            "image/png": "[encoded data removed]"
          },
          "metadata": {
            "needs_background": "light"
          }
        }
      ]
    },
    {
      "cell_type": "markdown",
      "source": [
        "### Variable 7: Diabetes Pedigree Function"
      ],
      "metadata": {
        "id": "EgE-22j5zKf_"
      }
    },
    {
      "cell_type": "code",
      "source": [
        "plt7_sns = sns.boxplot(data=df, y=\"DiabetesPedigreeFunction\").set(title=\"Diabetes Pedigree Function\") # Graph for EDA\n",
        "plt7_sns;\n",
        "print(df[\"DiabetesPedigreeFunction\"].describe()) # Describe to show stats"
      ],
      "metadata": {
        "colab": {
          "base_uri": "https://localhost:8080/",
          "height": 424
        },
        "id": "EIKFxBVozROv",
        "outputId": "975418f7-0246-4ee4-adfc-aa2de511e02b"
      },
      "execution_count": 272,
      "outputs": [
        {
          "output_type": "stream",
          "name": "stdout",
          "text": [
            "count    757.000000\n",
            "mean       0.472437\n",
            "std        0.329474\n",
            "min        0.078000\n",
            "25%        0.244000\n",
            "50%        0.376000\n",
            "75%        0.627000\n",
            "max        2.420000\n",
            "Name: DiabetesPedigreeFunction, dtype: float64\n"
          ]
        },
        {
          "output_type": "display_data",
          "data": {
            "text/plain": [
              "<Figure size 432x288 with 1 Axes>"
            ],
            "image/png": "[encoded data removed]"
          },
          "metadata": {
            "needs_background": "light"
          }
        }
      ]
    },
    {
      "cell_type": "markdown",
      "source": [
        "### Variable 8: Age"
      ],
      "metadata": {
        "id": "hduoS-syzvEQ"
      }
    },
    {
      "cell_type": "code",
      "source": [
        "plt8_sns = sns.boxplot(data=df, y=\"Age\").set(title=\"Age (years)\") # Graph for EDA\n",
        "plt8_sns;\n",
        "print(df[\"Age\"].describe()) # Describe to show stats"
      ],
      "metadata": {
        "colab": {
          "base_uri": "https://localhost:8080/",
          "height": 424
        },
        "id": "Mj31YNBbz52_",
        "outputId": "f90b3400-d9ff-487e-fb0e-b081559c42c5"
      },
      "execution_count": 273,
      "outputs": [
        {
          "output_type": "stream",
          "name": "stdout",
          "text": [
            "count    757.000000\n",
            "mean      33.281374\n",
            "std       11.697752\n",
            "min       21.000000\n",
            "25%       24.000000\n",
            "50%       29.000000\n",
            "75%       41.000000\n",
            "max       81.000000\n",
            "Name: Age, dtype: float64\n"
          ]
        },
        {
          "output_type": "display_data",
          "data": {
            "text/plain": [
              "<Figure size 432x288 with 1 Axes>"
            ],
            "image/png": "[encoded data removed]"
          },
          "metadata": {
            "needs_background": "light"
          }
        }
      ]
    },
    {
      "cell_type": "markdown",
      "source": [
        "The majority of the people are under the age of 50, the outliers in age can be as high as 81. (7 stories reference!)"
      ],
      "metadata": {
        "id": "-gmx_eXj8g6u"
      }
    },
    {
      "cell_type": "markdown",
      "source": [
        "### Variable 9: Outcome"
      ],
      "metadata": {
        "id": "m5yCxxQr0VNL"
      }
    },
    {
      "cell_type": "code",
      "source": [
        "plt9_sns = sns.countplot(data=df, x=\"Outcome\").set(title='Diabetes Outcome') # Graph for EDA\n",
        "plt9_sns;\n",
        "print(df[\"Outcome\"].describe()) # Describe to show stats"
      ],
      "metadata": {
        "colab": {
          "base_uri": "https://localhost:8080/",
          "height": 451
        },
        "id": "3Lo1wvkn0cRB",
        "outputId": "e8ed7795-9d73-4613-8b41-a82997f4828c"
      },
      "execution_count": 274,
      "outputs": [
        {
          "output_type": "stream",
          "name": "stdout",
          "text": [
            "count    757.000000\n",
            "mean       0.351387\n",
            "std        0.477719\n",
            "min        0.000000\n",
            "25%        0.000000\n",
            "50%        0.000000\n",
            "75%        1.000000\n",
            "max        1.000000\n",
            "Name: Outcome, dtype: float64\n"
          ]
        },
        {
          "output_type": "display_data",
          "data": {
            "text/plain": [
              "<Figure size 432x288 with 1 Axes>"
            ],
            "image/png": "[encoded data removed]"
          },
          "metadata": {
            "needs_background": "light"
          }
        }
      ]
    },
    {
      "cell_type": "markdown",
      "source": [
        "## Logistic Regression"
      ],
      "metadata": {
        "id": "WEJahaJn78RD"
      }
    },
    {
      "cell_type": "code",
      "source": [
        "from sklearn import feature_selection\n",
        "from sklearn.feature_selection import SelectKBest\n",
        "from sklearn.feature_selection import f_regression\n",
        "\n",
        "df_copy1 = df.copy(deep=True)\n",
        "target = df_copy1[\"Outcome\"]\n",
        "features = df_copy1.drop(\"Outcome\", axis = 1).copy(deep=True)\n",
        "features_names = list(features.columns)\n",
        "selection_kBest = SelectKBest(f_regression, k = 5).fit(features, target)\n",
        "features_kbest = selection_kBest.get_support()\n",
        "\n",
        "print(\"Overall Features: \", df_copy1.columns, \"\\n\")\n",
        "print(\"Chosen Features: \", features.columns[features_kbest], \"\\n\")\n",
        "print(selection_kBest.scores_, \"\\n\")"
      ],
      "metadata": {
        "colab": {
          "base_uri": "https://localhost:8080/"
        },
        "id": "0wbRsJH07_R8",
        "outputId": "dc4e0d5c-3bb8-4e78-c41f-1826262d459e"
      },
      "execution_count": 275,
      "outputs": [
        {
          "output_type": "stream",
          "name": "stdout",
          "text": [
            "Overall Features:  Index(['Pregnancies', 'Glucose', 'BloodPressure', 'SkinThickness', 'Insulin',\n",
            "       'BMI', 'DiabetesPedigreeFunction', 'Age', 'Outcome'],\n",
            "      dtype='object') \n",
            "\n",
            "Chosen Features:  Index(['Pregnancies', 'Glucose', 'BMI', 'DiabetesPedigreeFunction', 'Age'], dtype='object') \n",
            "\n",
            "[ 37.11876902 209.32463298   2.0934905    3.94222249  12.75394758\n",
            "  82.39594675  25.16960629  44.5422929 ] \n",
            "\n"
          ]
        }
      ]
    },
    {
      "cell_type": "code",
      "source": [
        "scores = pd.DataFrame({'Feature Name' : features.columns, 'Score' : selection_kBest.scores_}).sort_values(by='Score', ascending=False)\n",
        "print(scores)"
      ],
      "metadata": {
        "colab": {
          "base_uri": "https://localhost:8080/"
        },
        "id": "CD3BvjWF9UbB",
        "outputId": "c73da31d-353c-4579-ed6a-c2f8c6cbbe4e"
      },
      "execution_count": 276,
      "outputs": [
        {
          "output_type": "stream",
          "name": "stdout",
          "text": [
            "               Feature Name       Score\n",
            "1                   Glucose  209.324633\n",
            "5                       BMI   82.395947\n",
            "7                       Age   44.542293\n",
            "0               Pregnancies   37.118769\n",
            "6  DiabetesPedigreeFunction   25.169606\n",
            "4                   Insulin   12.753948\n",
            "3             SkinThickness    3.942222\n",
            "2             BloodPressure    2.093491\n"
          ]
        }
      ]
    },
    {
      "cell_type": "code",
      "source": [
        "import statsmodels.api as sm\n",
        "\n",
        "X=features\n",
        "y=target\n",
        "\n",
        "\n",
        "logit_model=sm.Logit(y,X)\n",
        "result=logit_model.fit()\n",
        "print(result.summary2())"
      ],
      "metadata": {
        "colab": {
          "base_uri": "https://localhost:8080/"
        },
        "id": "l773-lRy4f3t",
        "outputId": "d4497274-54ef-4679-fd83-1485aca74803"
      },
      "execution_count": 277,
      "outputs": [
        {
          "output_type": "stream",
          "name": "stdout",
          "text": [
            "Optimization terminated successfully.\n",
            "         Current function value: 0.600235\n",
            "         Iterations 5\n",
            "                             Results: Logit\n",
            "========================================================================\n",
            "Model:                 Logit              Pseudo R-squared:   0.074     \n",
            "Dependent Variable:    Outcome            AIC:                924.7552  \n",
            "Date:                  2022-06-25 03:43   BIC:                961.7901  \n",
            "No. Observations:      757                Log-Likelihood:     -454.38   \n",
            "Df Model:              7                  LL-Null:            -490.76   \n",
            "Df Residuals:          749                LLR p-value:        4.0591e-13\n",
            "Converged:             1.0000             Scale:              1.0000    \n",
            "No. Iterations:        5.0000                                           \n",
            "------------------------------------------------------------------------\n",
            "                          Coef.  Std.Err.    z    P>|z|   [0.025  0.975]\n",
            "------------------------------------------------------------------------\n",
            "Pregnancies               0.1292   0.0291  4.4422 0.0000  0.0722  0.1862\n",
            "Glucose                   0.0157   0.0029  5.4965 0.0000  0.0101  0.0213\n",
            "BloodPressure            -0.0332   0.0049 -6.7156 0.0000 -0.0429 -0.0235\n",
            "SkinThickness             0.0023   0.0061  0.3702 0.7113 -0.0098  0.0143\n",
            "Insulin                   0.0004   0.0008  0.5633 0.5732 -0.0011  0.0020\n",
            "BMI                      -0.0132   0.0117 -1.1297 0.2586 -0.0360  0.0097\n",
            "DiabetesPedigreeFunction  0.4028   0.2466  1.6333 0.1024 -0.0806  0.8861\n",
            "Age                      -0.0135   0.0086 -1.5713 0.1161 -0.0304  0.0033\n",
            "========================================================================\n",
            "\n"
          ]
        }
      ]
    },
    {
      "cell_type": "markdown",
      "source": [
        "## SMOTE Algorithm"
      ],
      "metadata": {
        "id": "_rjfhG0v5MTx"
      }
    },
    {
      "cell_type": "code",
      "source": [
        "from sklearn.linear_model import LinearRegression\n",
        "from sklearn.linear_model import LogisticRegression\n",
        "from imblearn.over_sampling import SMOTE\n",
        "import statsmodels.api as sm\n",
        "from sklearn.model_selection import train_test_split\n",
        "from patsy import dmatrices\n",
        "\n",
        "y, X = dmatrices('Outcome ~ Pregnancies + Glucose + BloodPressure + SkinThickness + Insulin + BMI + DiabetesPedigreeFunction + Age', df, return_type=\"dataframe\")\n",
        "y = np.ravel(y)\n",
        "\n",
        "#ignore warnings\n",
        "np.warnings.filterwarnings('ignore')\n",
        "\n",
        "# instantiate a logistic regression model, and fit with X and y\n",
        "model = LogisticRegression()\n",
        "model = model.fit(X, y)\n",
        "\n",
        "# check the accuracy on the training set\n",
        "model.score(X, y)\n",
        "\n"
      ],
      "metadata": {
        "colab": {
          "base_uri": "https://localhost:8080/"
        },
        "id": "wNoWRyaV_qzh",
        "outputId": "46439c33-3c54-46d4-af0c-506c9938eb4e"
      },
      "execution_count": 278,
      "outputs": [
        {
          "output_type": "execute_result",
          "data": {
            "text/plain": [
              "0.7846763540290621"
            ]
          },
          "metadata": {},
          "execution_count": 278
        }
      ]
    },
    {
      "cell_type": "code",
      "source": [
        "data_final = df\n",
        "X = data_final.loc[:, data_final.columns != 'Outcome']\n",
        "y = data_final.loc[:, data_final.columns == 'Outcome']\n",
        "\n",
        "os = SMOTE(random_state=0)\n",
        "X_train, X_test, y_train, y_test = train_test_split(X, y, test_size=0.3, random_state=0)\n",
        "columns = X_train.columns\n",
        "\n",
        "os_data_X,os_data_y=os.fit_resample(X_train, y_train)\n",
        "os_data_X = pd.DataFrame(data=os_data_X,columns=columns )\n",
        "os_data_y= pd.DataFrame(data=os_data_y,columns=['Outcome'])\n",
        "# we can Check the numbers of our data\n",
        "print(\"length of oversampled data is \",len(os_data_X))\n",
        "print(\"Number of no subscription in oversampled data\",len(os_data_y[os_data_y['Outcome']==0]))\n",
        "print(\"Number of subscription\",len(os_data_y[os_data_y['Outcome']==1]))\n",
        "print(\"Proportion of no subscription data in oversampled data is \",len(os_data_y[os_data_y['Outcome']==0])/len(os_data_X))\n",
        "print(\"Proportion of subscription data in oversampled data is \",len(os_data_y[os_data_y['Outcome']==1])/len(os_data_X))"
      ],
      "metadata": {
        "colab": {
          "base_uri": "https://localhost:8080/"
        },
        "id": "i227fU3J5Ond",
        "outputId": "fb2e33a9-f508-4a8c-bd35-722b56f336d3"
      },
      "execution_count": 279,
      "outputs": [
        {
          "output_type": "stream",
          "name": "stdout",
          "text": [
            "length of oversampled data is  688\n",
            "Number of no subscription in oversampled data 344\n",
            "Number of subscription 344\n",
            "Proportion of no subscription data in oversampled data is  0.5\n",
            "Proportion of subscription data in oversampled data is  0.5\n"
          ]
        }
      ]
    },
    {
      "cell_type": "code",
      "source": [
        "data_final_vars=df.columns.values.tolist()\n",
        "y=['Outcome']\n",
        "X=[i for i in data_final_vars if i not in y]\n",
        "from sklearn.feature_selection import RFE\n",
        "from sklearn.linear_model import LogisticRegression\n",
        "logreg = LogisticRegression()\n",
        "rfe = RFE(logreg, step = 20)\n",
        "#print(os_data_y)\n",
        "rfe = rfe.fit(os_data_X, os_data_y.values.ravel())\n",
        "print(rfe.support_)\n",
        "print(rfe.ranking_)"
      ],
      "metadata": {
        "colab": {
          "base_uri": "https://localhost:8080/"
        },
        "id": "7MBBMcPpLe0_",
        "outputId": "6605059f-9cde-4389-987a-281c939fb5e9"
      },
      "execution_count": 280,
      "outputs": [
        {
          "output_type": "stream",
          "name": "stdout",
          "text": [
            "[ True  True False False False  True  True False]\n",
            "[1 1 2 2 2 1 1 2]\n"
          ]
        }
      ]
    },
    {
      "cell_type": "code",
      "source": [
        "X=os_data_X\n",
        "y=os_data_y"
      ],
      "metadata": {
        "id": "EmJIQnV0wtyT"
      },
      "execution_count": 281,
      "outputs": []
    },
    {
      "cell_type": "code",
      "source": [
        "X_train, X_test, y_train, y_test = train_test_split(X, y, test_size=0.3, random_state=0)\n",
        "logreg = LogisticRegression()\n",
        "logreg.fit(X_train, y_train)\n",
        "\n",
        "y_pred = logreg.predict(X_test)\n",
        "print('Accuracy of logistic regression classifier on test set: {:.2f}'.format(logreg.score(X_test, y_test)))"
      ],
      "metadata": {
        "colab": {
          "base_uri": "https://localhost:8080/"
        },
        "id": "XBwiZkNGvqru",
        "outputId": "901dc5ed-e009-41fa-91a1-31cb2e870c7a"
      },
      "execution_count": 282,
      "outputs": [
        {
          "output_type": "stream",
          "name": "stdout",
          "text": [
            "Accuracy of logistic regression classifier on test set: 0.76\n"
          ]
        }
      ]
    },
    {
      "cell_type": "markdown",
      "source": [
        "### Logistic Regression After SMOTE"
      ],
      "metadata": {
        "id": "WJLWrKf7lne_"
      }
    },
    {
      "cell_type": "code",
      "source": [
        "df_copy2 = X.copy(deep=True)\n",
        "df_copy3 = y.copy(deep=True)\n",
        "target = df_copy3[\"Outcome\"]\n",
        "features = df_copy2.copy(deep=True)\n",
        "features_names = list(features.columns)\n",
        "selection_kBest = SelectKBest(f_regression, k = 5).fit(features, target)\n",
        "features_kbest = selection_kBest.get_support()\n",
        "\n",
        "print(\"Overall Features: \", df_copy2.columns, \"\\n\")\n",
        "print(\"Chosen Features: \", features.columns[features_kbest], \"\\n\")\n",
        "print(selection_kBest.scores_, \"\\n\")"
      ],
      "metadata": {
        "colab": {
          "base_uri": "https://localhost:8080/"
        },
        "id": "Funkmm4ulmy3",
        "outputId": "46d9b589-0991-46ba-df55-a8c7357e6787"
      },
      "execution_count": 283,
      "outputs": [
        {
          "output_type": "stream",
          "name": "stdout",
          "text": [
            "Overall Features:  Index(['Pregnancies', 'Glucose', 'BloodPressure', 'SkinThickness', 'Insulin',\n",
            "       'BMI', 'DiabetesPedigreeFunction', 'Age'],\n",
            "      dtype='object') \n",
            "\n",
            "Chosen Features:  Index(['Pregnancies', 'Glucose', 'BMI', 'DiabetesPedigreeFunction', 'Age'], dtype='object') \n",
            "\n",
            "[ 19.54342731 220.86880044   1.3842922    3.45803344  12.08664467\n",
            "  94.58051714  27.31323546  26.92575754] \n",
            "\n"
          ]
        }
      ]
    },
    {
      "cell_type": "markdown",
      "source": [
        "The chosen features after the SMOTE algorithm did slightly changed."
      ],
      "metadata": {
        "id": "R3p42QCH-fwA"
      }
    },
    {
      "cell_type": "code",
      "source": [
        "scores = pd.DataFrame({'Feature Name' : features.columns, 'Score' : selection_kBest.scores_}).sort_values(by='Score', ascending=False)\n",
        "print(scores)"
      ],
      "metadata": {
        "colab": {
          "base_uri": "https://localhost:8080/"
        },
        "id": "FEqpMrjGyN_N",
        "outputId": "e1b347a0-1fec-4ef2-96bb-0da4476f7a66"
      },
      "execution_count": 284,
      "outputs": [
        {
          "output_type": "stream",
          "name": "stdout",
          "text": [
            "               Feature Name       Score\n",
            "1                   Glucose  220.868800\n",
            "5                       BMI   94.580517\n",
            "6  DiabetesPedigreeFunction   27.313235\n",
            "7                       Age   26.925758\n",
            "0               Pregnancies   19.543427\n",
            "4                   Insulin   12.086645\n",
            "3             SkinThickness    3.458033\n",
            "2             BloodPressure    1.384292\n"
          ]
        }
      ]
    },
    {
      "cell_type": "markdown",
      "source": [
        "After SMOTE, Age, Pregnancies, and DiabetesPedigreeFunction swapped spots. Glucose and BMI seem to be the defining factors to whether or not someone had diabetes."
      ],
      "metadata": {
        "id": "vLkpJ_y5-r0X"
      }
    },
    {
      "cell_type": "markdown",
      "source": [
        "## Metrics"
      ],
      "metadata": {
        "id": "gc5Kk14-THCY"
      }
    },
    {
      "cell_type": "code",
      "source": [
        "\n",
        "from sklearn.metrics import confusion_matrix\n",
        "confusion_matrix = confusion_matrix(y_test, y_pred)\n",
        "print(confusion_matrix)"
      ],
      "metadata": {
        "colab": {
          "base_uri": "https://localhost:8080/"
        },
        "id": "b-fFwU1dNl9w",
        "outputId": "653fa4d0-b067-4243-aa14-4c2ebe26c95a"
      },
      "execution_count": 285,
      "outputs": [
        {
          "output_type": "stream",
          "name": "stdout",
          "text": [
            "[[77 27]\n",
            " [23 80]]\n"
          ]
        }
      ]
    },
    {
      "cell_type": "code",
      "source": [
        "from sklearn.metrics import classification_report\n",
        "print(classification_report(y_test, y_pred))"
      ],
      "metadata": {
        "colab": {
          "base_uri": "https://localhost:8080/"
        },
        "id": "aUy8OB8hTO9h",
        "outputId": "39deb930-9500-48bb-e299-de8669d2588b"
      },
      "execution_count": 286,
      "outputs": [
        {
          "output_type": "stream",
          "name": "stdout",
          "text": [
            "              precision    recall  f1-score   support\n",
            "\n",
            "           0       0.77      0.74      0.75       104\n",
            "           1       0.75      0.78      0.76       103\n",
            "\n",
            "    accuracy                           0.76       207\n",
            "   macro avg       0.76      0.76      0.76       207\n",
            "weighted avg       0.76      0.76      0.76       207\n",
            "\n"
          ]
        }
      ]
    },
    {
      "cell_type": "markdown",
      "source": [
        "### Receiver operating characteristic"
      ],
      "metadata": {
        "id": "baw58XaKE7js"
      }
    },
    {
      "cell_type": "code",
      "source": [
        "from sklearn.metrics import roc_auc_score\n",
        "from sklearn.metrics import roc_curve\n",
        "import matplotlib.pyplot as plt\n",
        "logit_roc_auc = roc_auc_score(y_test, logreg.predict(X_test))\n",
        "fpr, tpr, thresholds = roc_curve(y_test, logreg.predict_proba(X_test)[:,1])\n",
        "plt.figure()\n",
        "plt.plot(fpr, tpr, label='Logistic Regression (area = %0.2f)' % logit_roc_auc)\n",
        "plt.plot([0, 1], [0, 1],'r--')\n",
        "plt.xlim([0.0, 1.0])\n",
        "plt.ylim([0.0, 1.05])\n",
        "plt.xlabel('False Positive Rate')\n",
        "plt.ylabel('True Positive Rate')\n",
        "plt.title('Receiver operating characteristic')\n",
        "plt.legend(loc=\"lower right\")\n",
        "plt.savefig('Log_ROC')\n",
        "plt.show()"
      ],
      "metadata": {
        "colab": {
          "base_uri": "https://localhost:8080/",
          "height": 295
        },
        "id": "TvnZi9tzE74_",
        "outputId": "306ff5f5-1136-4153-d9f7-48ae9f0e2e47"
      },
      "execution_count": 287,
      "outputs": [
        {
          "output_type": "display_data",
          "data": {
            "text/plain": [
              "<Figure size 432x288 with 1 Axes>"
            ],
            "image/png": "[encoded data removed]"
          },
          "metadata": {
            "needs_background": "light"
          }
        }
      ]
    },
    {
      "cell_type": "markdown",
      "source": [
        "The ROC curve is not close to the red line and is in fact at a decent curve."
      ],
      "metadata": {
        "id": "nVtkXywh-BXv"
      }
    },
    {
      "cell_type": "markdown",
      "source": [
        "### Chi Square"
      ],
      "metadata": {
        "id": "ZqK9ehegfzFO"
      }
    },
    {
      "cell_type": "code",
      "source": [
        "#import stats module to perform chi-square\n",
        "from scipy import stats\n",
        "\n",
        "#perform chi-square test\n",
        "target=df['Outcome'].reset_index(drop=True).copy()\n",
        "chi_sq=[]\n",
        "for i in range(0,9):\n",
        "    chi_sq.append([stats.chi2_contingency(pd.crosstab(target, df.iloc[:,i]))[0:2],i])\n",
        "#chi_sq\n",
        "chi_sq.sort(reverse=True)\n",
        "chi_sq"
      ],
      "metadata": {
        "colab": {
          "base_uri": "https://localhost:8080/"
        },
        "id": "ewfoIsasfy1f",
        "outputId": "7e7ede52-a31c-4f5b-83a4-d1bd146f923e"
      },
      "execution_count": 288,
      "outputs": [
        {
          "output_type": "execute_result",
          "data": {
            "text/plain": [
              "[[(514.772093980558, 0.4203077225234883), 6],\n",
              " [(236.19123662798555, 0.6620515651140464), 5],\n",
              " [(204.71876489350504, 0.11916664865806793), 4],\n",
              " [(115.86180163014362, 0.8688779901508183), 1],\n",
              " [(69.0730013081144, 0.01545551543893548), 2],\n",
              " [(49.683330923186034, 0.5260305454308186), 7],\n",
              " [(47.936181205545, 0.5565907002826167), 3],\n",
              " [(15.602415624990002, 0.48103654956751707), 0],\n",
              " [(0.2796255615590535, 0.5969467419875958), 8]]"
            ]
          },
          "metadata": {},
          "execution_count": 288
        }
      ]
    },
    {
      "cell_type": "markdown",
      "source": [
        "## Summarizing Approach"
      ],
      "metadata": {
        "id": "KWLeeyET2d6l"
      }
    },
    {
      "cell_type": "markdown",
      "source": [
        "What was done was look at the data set, create a logic regression and look at the performance metrics. After looking at the performance metrics, and realizing the data was imbalanced, the SMOTE algorithm was used to fix the imbalanced data. Then, the logistic regression model was run again but after the data ran through SMOTE, retested the metrics aswell, and got the chi-square and p-values of the data."
      ],
      "metadata": {
        "id": "PNM33Ftc2hKY"
      }
    }
  ]
}